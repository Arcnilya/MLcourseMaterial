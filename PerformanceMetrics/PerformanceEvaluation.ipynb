{
 "cells": [
  {
   "cell_type": "markdown",
   "metadata": {},
   "source": [
    "## Asses the performance of a supervised classifiers"
   ]
  },
  {
   "cell_type": "code",
   "execution_count": 1,
   "metadata": {},
   "outputs": [],
   "source": [
    "# Import the required libraries\n",
    "import pandas as pd # Pandas deals with handling data. \n",
    "import numpy as np # Numpy provides a lot of FAST ways for array manipulation in python.\n",
    "import matplotlib.pyplot as plt # Plotting script library\n",
    "import matplotlib as mpl # Plotting\n",
    "import seaborn as sns # More plotting\n",
    "\n",
    "%matplotlib inline \n",
    "# Define some plotting params:\n",
    "mpl.rcParams['figure.figsize'] = (12,6)\n",
    "sns.set_style(\"whitegrid\", {\"axes.facecolor\": \".99\"})"
   ]
  },
  {
   "cell_type": "markdown",
   "metadata": {},
   "source": [
    "#### Import data from openML - do train, valid, splitting"
   ]
  },
  {
   "cell_type": "code",
   "execution_count": 17,
   "metadata": {},
   "outputs": [],
   "source": [
    "from sklearn.datasets import fetch_openml\n",
    "from sklearn.model_selection import train_test_split\n",
    "\n",
    "data = fetch_openml(name='adult', version=1)\n",
    "X = pd.DataFrame(data=data.data, columns=data.feature_names).fillna(method='pad') \n",
    "y = data.target\n",
    "\n",
    "X_train, X_valid, y_train, y_valid = train_test_split(X, y)"
   ]
  },
  {
   "cell_type": "code",
   "execution_count": 22,
   "metadata": {},
   "outputs": [
    {
     "name": "stdout",
     "output_type": "stream",
     "text": [
      "              precision    recall  f1-score   support\n",
      "\n",
      "       <=50K     0.8442    0.9533    0.8954      9271\n",
      "        >50K     0.7514    0.4452    0.5592      2940\n",
      "\n",
      "    accuracy                         0.8310     12211\n",
      "   macro avg     0.7978    0.6993    0.7273     12211\n",
      "weighted avg     0.8219    0.8310    0.8145     12211\n",
      "\n"
     ]
    }
   ],
   "source": [
    "from sklearn.ensemble import RandomForestClassifier\n",
    "from sklearn.metrics import confusion_matrix, plot_confusion_matrix, classification_report\n",
    "\n",
    "rf = RandomForestClassifier(max_leaf_nodes=8).fit(X_train, y_train)\n",
    "y_pred = rf.predict(X_valid)\n",
    "\n",
    "print(classification_report(y_valid, y_pred, digits=4))"
   ]
  },
  {
   "cell_type": "markdown",
   "metadata": {},
   "source": [
    "What are precision, recall, and F1?"
   ]
  },
  {
   "cell_type": "code",
   "execution_count": 33,
   "metadata": {},
   "outputs": [
    {
     "data": {
      "image/png": "[encoded data removed]",
      "text/plain": [
       "<Figure size 864x432 with 2 Axes>"
      ]
     },
     "metadata": {},
     "output_type": "display_data"
    }
   ],
   "source": [
    "plot_confusion_matrix(rf, X_valid, y_valid, cmap='gray')\n",
    "plt.grid(False)"
   ]
  }
 ],
 "metadata": {
  "kernelspec": {
   "display_name": "Python 3",
   "language": "python",
   "name": "python3"
  },
  "language_info": {
   "codemirror_mode": {
    "name": "ipython",
    "version": 3
   },
   "file_extension": ".py",
   "mimetype": "text/x-python",
   "name": "python",
   "nbconvert_exporter": "python",
   "pygments_lexer": "ipython3",
   "version": "3.8.5"
  }
 },
 "nbformat": 4,
 "nbformat_minor": 4
}
