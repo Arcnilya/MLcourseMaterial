{
 "cells": [
  {
   "cell_type": "markdown",
   "metadata": {},
   "source": [
    "## Asses the performance of a supervised classifiers"
   ]
  },
  {
   "cell_type": "code",
   "execution_count": 2,
   "metadata": {},
   "outputs": [],
   "source": [
    "# Import the required libraries\n",
    "import pandas as pd # Pandas deals with handling data. \n",
    "import numpy as np # Numpy provides a lot of FAST ways for array manipulation in python.\n",
    "import matplotlib.pyplot as plt # Plotting script library\n",
    "import matplotlib as mpl # Plotting\n",
    "import seaborn as sns # More plotting\n",
    "import numpy as np\n",
    "\n",
    "%matplotlib inline \n",
    "# Define some plotting params:\n",
    "mpl.rcParams['figure.figsize'] = (12,6)\n",
    "sns.set_style(\"whitegrid\", {\"axes.facecolor\": \".99\"})"
   ]
  },
  {
   "cell_type": "markdown",
   "metadata": {},
   "source": [
    "#### Import data from openML - do train, valid, splitting"
   ]
  },
  {
   "cell_type": "code",
   "execution_count": 4,
   "metadata": {},
   "outputs": [],
   "source": [
    "from sklearn.datasets import fetch_openml\n",
    "from sklearn.model_selection import train_test_split\n",
    "\n",
    "data = fetch_openml(name='adult', version=1)\n",
    "X = pd.DataFrame(data=data.data, columns=data.feature_names).fillna(method='pad') \n",
    "y = data.target\n",
    "\n",
    "X_train, X_valid, y_train, y_valid = train_test_split(X, y)"
   ]
  },
  {
   "cell_type": "code",
   "execution_count": 5,
   "metadata": {},
   "outputs": [
    {
     "name": "stdout",
     "output_type": "stream",
     "text": [
      "              precision    recall  f1-score   support\n",
      "\n",
      "       <=50K     0.8531    0.9553    0.9013      9286\n",
      "        >50K     0.7710    0.4776    0.5898      2925\n",
      "\n",
      "    accuracy                         0.8409     12211\n",
      "   macro avg     0.8120    0.7165    0.7456     12211\n",
      "weighted avg     0.8334    0.8409    0.8267     12211\n",
      "\n"
     ]
    }
   ],
   "source": [
    "from sklearn.ensemble import RandomForestClassifier\n",
    "from sklearn.metrics import confusion_matrix, plot_confusion_matrix, classification_report\n",
    "\n",
    "rf = RandomForestClassifier(max_leaf_nodes=8).fit(X_train, y_train)\n",
    "y_pred = rf.predict(X_valid)\n",
    "\n",
    "print(classification_report(y_valid, y_pred, digits=4))"
   ]
  },
  {
   "cell_type": "markdown",
   "metadata": {},
   "source": [
    "What are precision, recall, and F1?"
   ]
  },
  {
   "cell_type": "code",
   "execution_count": 6,
   "metadata": {},
   "outputs": [
    {
     "data": {
      "image/png": "[encoded data removed]",
      "text/plain": [
       "<Figure size 864x432 with 2 Axes>"
      ]
     },
     "metadata": {},
     "output_type": "display_data"
    }
   ],
   "source": [
    "plot_confusion_matrix(rf, X_valid, y_valid, cmap='gray')\n",
    "plt.grid(False)"
   ]
  },
  {
   "cell_type": "code",
   "execution_count": 32,
   "metadata": {},
   "outputs": [
    {
     "data": {
      "text/plain": [
       "array([['<=50K', '<=50K', True],\n",
       "       ['<=50K', '<=50K', True],\n",
       "       ['<=50K', '<=50K', True],\n",
       "       ...,\n",
       "       ['<=50K', '<=50K', True],\n",
       "       ['<=50K', '<=50K', True],\n",
       "       ['>50K', '>50K', True]], dtype=object)"
      ]
     },
     "execution_count": 32,
     "metadata": {},
     "output_type": "execute_result"
    }
   ],
   "source": [
    "N = 1000000\n",
    "y_true_pred = np.vstack((y_valid[:N], y_pred[:N])).T\n",
    "\n",
    "y_true_pred = np.concatenate((y_true_pred, (y_true_pred[:, 0] == y_true_pred[:, 1]).reshape(-1, 1)), axis=1)\n",
    "y_true_pred"
   ]
  },
  {
   "cell_type": "code",
   "execution_count": 37,
   "metadata": {},
   "outputs": [
    {
     "data": {
      "text/plain": [
       "array([[8871,  415],\n",
       "       [1528, 1397]])"
      ]
     },
     "execution_count": 37,
     "metadata": {},
     "output_type": "execute_result"
    }
   ],
   "source": [
    "TP = lambda pos_label, y_true_pred: ((y_true_pred[:, 0] == pos_label) & (y_true_pred[:, 1] == pos_label)).sum()\n",
    "FP = lambda pos_label, y_true_pred: ((y_true_pred[:, 0] != pos_label) & (y_true_pred[:, 1] == pos_label)).sum()\n",
    "TN = lambda pos_label, y_true_pred: ((y_true_pred[:, 0] != pos_label) & (y_true_pred[:, 1] != pos_label)).sum()\n",
    "FN = lambda pos_label, y_true_pred: ((y_true_pred[:, 0] == pos_label) & (y_true_pred[:, 1] != pos_label)).sum()\n",
    "\n",
    "pos_label = '>50K'\n",
    "\n",
    "np.array([[TN(pos_label, y_true_pred), FP(pos_label, y_true_pred)],\n",
    "          [FN(pos_label, y_true_pred), TP(pos_label, y_true_pred)]])"
   ]
  },
  {
   "cell_type": "code",
   "execution_count": 39,
   "metadata": {},
   "outputs": [
    {
     "name": "stdout",
     "output_type": "stream",
     "text": [
      "Precision: 0.7710\n",
      "Recall:    0.4776\n"
     ]
    }
   ],
   "source": [
    "precision = lambda pos_lab, y_arr: TP(pos_lab, y_arr)/(TP(pos_lab, y_arr) + FP(pos_lab, y_arr))\n",
    "recall = lambda pos_lab, y_arr: TP(pos_lab, y_arr)/(TP(pos_lab, y_arr) + FN(pos_lab, y_arr))\n",
    "\n",
    "print('Precision: {:.4f}'.format(precision(pos_label, y_true_pred)))\n",
    "print('Recall:    {:.4f}'.format(recall(pos_label, y_true_pred)))"
   ]
  }
 ],
 "metadata": {
  "kernelspec": {
   "display_name": "Python 3",
   "language": "python",
   "name": "python3"
  },
  "language_info": {
   "codemirror_mode": {
    "name": "ipython",
    "version": 3
   },
   "file_extension": ".py",
   "mimetype": "text/x-python",
   "name": "python",
   "nbconvert_exporter": "python",
   "pygments_lexer": "ipython3",
   "version": "3.8.5"
  }
 },
 "nbformat": 4,
 "nbformat_minor": 4
}
