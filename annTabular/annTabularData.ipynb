{
 "cells": [
  {
   "cell_type": "markdown",
   "metadata": {},
   "source": [
    "### Here we build a ann that can beat RF in adult dataset which has mainly tabular data in it."
   ]
  },
  {
   "cell_type": "code",
   "execution_count": 15,
   "metadata": {},
   "outputs": [],
   "source": [
    "import numpy as np\n",
    "import pandas as pd\n",
    "\n",
    "from fastai.tabular.all import *\n",
    "from sklearn.preprocessing import StandardScaler\n",
    "from sklearn.pipeline import Pipeline\n",
    "from sklearn.ensemble import RandomForestClassifier\n",
    "from sklearn.compose import ColumnTransformer, make_column_selector\n",
    "from sklearn.preprocessing import OrdinalEncoder\n",
    "from sklearn.model_selection import train_test_split\n",
    "\n",
    "path = untar_data(URLs.ADULT_SAMPLE)\n",
    "\n",
    "df = pd.read_csv(path/'adult.csv')\n",
    "sel_obj = make_column_selector(dtype_include=[object, 'category'])\n",
    "sel_cont = make_column_selector(dtype_include=np.number)\n",
    "\n",
    "df.loc[:, sel_obj(df)] = df.loc[:, sel_obj(df)].astype('category') \n",
    "\n",
    "# Fillnans\n",
    "df.fillna(method='bfill', inplace=True)\n",
    "\n",
    "# There are additional spaces everyeher..\n",
    "for c in sel_obj(df):\n",
    "    df.loc[:, c] = df.loc[:, c].map(lambda s: s.strip())\n",
    "\n",
    "\n",
    "ord_dict = np.load(path/'cat_feature_order_dict.npy', allow_pickle=True).item()\n",
    "for key in ord_dict.keys():\n",
    "    feat_order = ord_dict[key].items()\n",
    "    cats = np.array(sorted(feat_order, key=lambda t: t[1]))[:, 0]\n",
    "    df.loc[:, key].cat.set_categories(cats, ordered=True, inplace=True)\n",
    "\n",
    "# Transformers\n",
    "nn_cat_pipe = Pipeline([('ordinal', OrdinalEncoder()), ('std', StandardScaler())])\n",
    "ct = ColumnTransformer(transformers=[('ordinal', OrdinalEncoder(), sel_obj)], remainder='passthrough')\n",
    "ct_nn = ColumnTransformer(transformers=[('ordinal+std', nn_cat_pipe, sel_obj), \n",
    "                                        ('standard', StandardScaler(), sel_cont)], \n",
    "                          remainder='passthrough')\n",
    "\n",
    "# Train test split\n",
    "y = df.loc[:, 'salary']\n",
    "df = df.drop(columns='salary')\n",
    "X_train, X_valid, y_train, y_valid  = train_test_split(df, y)\n",
    "\n",
    "X_train_enc = ct.fit_transform(X_train)\n",
    "X_valid_enc = ct.transform(X_valid)\n",
    "X_train_nn = ct_nn.fit_transform(X_train)\n",
    "X_valid_nn = ct_nn.transform(X_valid)\n",
    "\n",
    "train_idxs = X_train.index.values\n",
    "valid_idxs = X_valid.index.values\n"
   ]
  },
  {
   "cell_type": "code",
   "execution_count": 3,
   "metadata": {},
   "outputs": [
    {
     "data": {
      "text/html": [
       "<table border=\"1\" class=\"dataframe\">\n",
       "  <thead>\n",
       "    <tr style=\"text-align: right;\">\n",
       "      <th></th>\n",
       "      <th>workclass</th>\n",
       "      <th>education</th>\n",
       "      <th>marital-status</th>\n",
       "      <th>occupation</th>\n",
       "      <th>relationship</th>\n",
       "      <th>race</th>\n",
       "      <th>age</th>\n",
       "      <th>fnlwgt</th>\n",
       "      <th>education-num</th>\n",
       "      <th>salary</th>\n",
       "    </tr>\n",
       "  </thead>\n",
       "  <tbody>\n",
       "    <tr>\n",
       "      <th>0</th>\n",
       "      <td>Self-emp-inc</td>\n",
       "      <td>Bachelors</td>\n",
       "      <td>Married-civ-spouse</td>\n",
       "      <td>Exec-managerial</td>\n",
       "      <td>Husband</td>\n",
       "      <td>White</td>\n",
       "      <td>51.000000</td>\n",
       "      <td>231230.000104</td>\n",
       "      <td>13.0</td>\n",
       "      <td>&lt;50k</td>\n",
       "    </tr>\n",
       "    <tr>\n",
       "      <th>1</th>\n",
       "      <td>Private</td>\n",
       "      <td>Bachelors</td>\n",
       "      <td>Never-married</td>\n",
       "      <td>Prof-specialty</td>\n",
       "      <td>Not-in-family</td>\n",
       "      <td>White</td>\n",
       "      <td>25.000000</td>\n",
       "      <td>123082.997837</td>\n",
       "      <td>13.0</td>\n",
       "      <td>&lt;50k</td>\n",
       "    </tr>\n",
       "    <tr>\n",
       "      <th>2</th>\n",
       "      <td>Private</td>\n",
       "      <td>Masters</td>\n",
       "      <td>Never-married</td>\n",
       "      <td>Prof-specialty</td>\n",
       "      <td>Not-in-family</td>\n",
       "      <td>White</td>\n",
       "      <td>49.000000</td>\n",
       "      <td>43348.002142</td>\n",
       "      <td>14.0</td>\n",
       "      <td>&gt;=50k</td>\n",
       "    </tr>\n",
       "    <tr>\n",
       "      <th>3</th>\n",
       "      <td>Federal-gov</td>\n",
       "      <td>Assoc-acdm</td>\n",
       "      <td>Separated</td>\n",
       "      <td>Prof-specialty</td>\n",
       "      <td>Not-in-family</td>\n",
       "      <td>White</td>\n",
       "      <td>64.000000</td>\n",
       "      <td>267545.998704</td>\n",
       "      <td>12.0</td>\n",
       "      <td>&gt;=50k</td>\n",
       "    </tr>\n",
       "    <tr>\n",
       "      <th>4</th>\n",
       "      <td>Federal-gov</td>\n",
       "      <td>HS-grad</td>\n",
       "      <td>Married-civ-spouse</td>\n",
       "      <td>Craft-repair</td>\n",
       "      <td>Husband</td>\n",
       "      <td>White</td>\n",
       "      <td>51.000000</td>\n",
       "      <td>306783.997433</td>\n",
       "      <td>9.0</td>\n",
       "      <td>&gt;=50k</td>\n",
       "    </tr>\n",
       "    <tr>\n",
       "      <th>5</th>\n",
       "      <td>Private</td>\n",
       "      <td>Some-college</td>\n",
       "      <td>Never-married</td>\n",
       "      <td>Sales</td>\n",
       "      <td>Not-in-family</td>\n",
       "      <td>White</td>\n",
       "      <td>27.000000</td>\n",
       "      <td>249315.000084</td>\n",
       "      <td>10.0</td>\n",
       "      <td>&lt;50k</td>\n",
       "    </tr>\n",
       "    <tr>\n",
       "      <th>6</th>\n",
       "      <td>State-gov</td>\n",
       "      <td>HS-grad</td>\n",
       "      <td>Married-civ-spouse</td>\n",
       "      <td>Protective-serv</td>\n",
       "      <td>Husband</td>\n",
       "      <td>White</td>\n",
       "      <td>68.999999</td>\n",
       "      <td>34339.000180</td>\n",
       "      <td>9.0</td>\n",
       "      <td>&lt;50k</td>\n",
       "    </tr>\n",
       "    <tr>\n",
       "      <th>7</th>\n",
       "      <td>Private</td>\n",
       "      <td>12th</td>\n",
       "      <td>Never-married</td>\n",
       "      <td>Handlers-cleaners</td>\n",
       "      <td>Own-child</td>\n",
       "      <td>White</td>\n",
       "      <td>17.000000</td>\n",
       "      <td>226716.999482</td>\n",
       "      <td>8.0</td>\n",
       "      <td>&lt;50k</td>\n",
       "    </tr>\n",
       "    <tr>\n",
       "      <th>8</th>\n",
       "      <td>Private</td>\n",
       "      <td>HS-grad</td>\n",
       "      <td>Divorced</td>\n",
       "      <td>Machine-op-inspct</td>\n",
       "      <td>Not-in-family</td>\n",
       "      <td>White</td>\n",
       "      <td>24.000000</td>\n",
       "      <td>433330.007881</td>\n",
       "      <td>9.0</td>\n",
       "      <td>&lt;50k</td>\n",
       "    </tr>\n",
       "    <tr>\n",
       "      <th>9</th>\n",
       "      <td>Self-emp-not-inc</td>\n",
       "      <td>Bachelors</td>\n",
       "      <td>Married-civ-spouse</td>\n",
       "      <td>Exec-managerial</td>\n",
       "      <td>Husband</td>\n",
       "      <td>White</td>\n",
       "      <td>26.000000</td>\n",
       "      <td>137795.000465</td>\n",
       "      <td>13.0</td>\n",
       "      <td>&lt;50k</td>\n",
       "    </tr>\n",
       "  </tbody>\n",
       "</table>"
      ],
      "text/plain": [
       "<IPython.core.display.HTML object>"
      ]
     },
     "metadata": {},
     "output_type": "display_data"
    }
   ],
   "source": [
    "procs_nn = [Categorify, FillMissing, Normalize]\n",
    "to_nn = TabularPandas(df, procs=procs_nn, \n",
    "                      cat_names = ['workclass', 'education', 'marital-status', 'occupation', 'relationship', 'race'],\n",
    "                      cont_names = ['age', 'fnlwgt', 'education-num'],\n",
    "                      y_names=\"salary\",\n",
    "                      splits=(list(train_idxs), list(valid_idxs)))\n",
    "\n",
    "dls = to_nn.dataloaders(24)\n",
    "dls.show_batch()"
   ]
  },
  {
   "cell_type": "code",
   "execution_count": 22,
   "metadata": {},
   "outputs": [
    {
     "data": {
      "text/html": [],
      "text/plain": [
       "<IPython.core.display.HTML object>"
      ]
     },
     "metadata": {},
     "output_type": "display_data"
    },
    {
     "data": {
      "text/plain": [
       "SuggestedLRs(lr_min=0.005754399299621582, lr_steep=0.0063095735386013985)"
      ]
     },
     "execution_count": 22,
     "metadata": {},
     "output_type": "execute_result"
    },
    {
     "data": {
      "image/png": "[encoded data removed]",
      "text/plain": [
       "<Figure size 432x288 with 1 Axes>"
      ]
     },
     "metadata": {
      "needs_background": "light"
     },
     "output_type": "display_data"
    }
   ],
   "source": [
    "learn = tabular_learner(dls, metrics=accuracy)\n",
    "learn.lr_find()\n"
   ]
  },
  {
   "cell_type": "code",
   "execution_count": 25,
   "metadata": {},
   "outputs": [
    {
     "data": {
      "text/html": [
       "<table border=\"1\" class=\"dataframe\">\n",
       "  <thead>\n",
       "    <tr style=\"text-align: left;\">\n",
       "      <th>epoch</th>\n",
       "      <th>train_loss</th>\n",
       "      <th>valid_loss</th>\n",
       "      <th>accuracy</th>\n",
       "      <th>time</th>\n",
       "    </tr>\n",
       "  </thead>\n",
       "  <tbody>\n",
       "    <tr>\n",
       "      <td>0</td>\n",
       "      <td>0.320282</td>\n",
       "      <td>0.368062</td>\n",
       "      <td>0.830979</td>\n",
       "      <td>00:07</td>\n",
       "    </tr>\n",
       "    <tr>\n",
       "      <td>1</td>\n",
       "      <td>0.365679</td>\n",
       "      <td>0.369761</td>\n",
       "      <td>0.829382</td>\n",
       "      <td>00:07</td>\n",
       "    </tr>\n",
       "    <tr>\n",
       "      <td>2</td>\n",
       "      <td>0.332363</td>\n",
       "      <td>0.362669</td>\n",
       "      <td>0.831593</td>\n",
       "      <td>00:07</td>\n",
       "    </tr>\n",
       "    <tr>\n",
       "      <td>3</td>\n",
       "      <td>0.348116</td>\n",
       "      <td>0.364918</td>\n",
       "      <td>0.832453</td>\n",
       "      <td>00:06</td>\n",
       "    </tr>\n",
       "    <tr>\n",
       "      <td>4</td>\n",
       "      <td>0.339654</td>\n",
       "      <td>0.360971</td>\n",
       "      <td>0.832576</td>\n",
       "      <td>00:07</td>\n",
       "    </tr>\n",
       "  </tbody>\n",
       "</table>"
      ],
      "text/plain": [
       "<IPython.core.display.HTML object>"
      ]
     },
     "metadata": {},
     "output_type": "display_data"
    }
   ],
   "source": [
    "learn.fit_one_cycle(5, lr=.001)"
   ]
  },
  {
   "cell_type": "code",
   "execution_count": 36,
   "metadata": {},
   "outputs": [
    {
     "name": "stdout",
     "output_type": "stream",
     "text": [
      "              precision    recall  f1-score   support\n",
      "\n",
      "        <50k     0.8918    0.9330    0.9119      6177\n",
      "       >=50k     0.7534    0.6441    0.6945      1964\n",
      "\n",
      "    accuracy                         0.8633      8141\n",
      "   macro avg     0.8226    0.7885    0.8032      8141\n",
      "weighted avg     0.8584    0.8633    0.8595      8141\n",
      "\n"
     ]
    }
   ],
   "source": [
    "from sklearn.metrics import accuracy_score, classification_report\n",
    "rf = RandomForestClassifier(n_estimators=200, oob_score=True)\n",
    "rf.fit(X_train_enc, y_train)\n",
    "\n",
    "y_pred = rf.predict(X_valid_enc)\n",
    "\n",
    "print(classification_report(y_valid, y_pred, digits=4))"
   ]
  },
  {
   "cell_type": "code",
   "execution_count": 40,
   "metadata": {},
   "outputs": [
    {
     "name": "stdout",
     "output_type": "stream",
     "text": [
      "0.7345904609809281\n",
      "              precision    recall  f1-score   support\n",
      "\n",
      "       False     0.9997    1.0000    0.9998     24420\n",
      "        True     0.9999    0.9991    0.9995      8141\n",
      "\n",
      "    accuracy                         0.9998     32561\n",
      "   macro avg     0.9998    0.9995    0.9997     32561\n",
      "weighted avg     0.9998    0.9998    0.9998     32561\n",
      "\n"
     ]
    }
   ],
   "source": [
    "is_valid = np.zeros(len(df), dtype=bool)\n",
    "is_valid[valid_idxs] = True\n",
    "\n",
    "df_enc = ct.fit_transform(df)\n",
    "\n",
    "rf.fit(df_enc, is_valid)\n",
    "print(rf.oob_score_)\n",
    "y_pred = rf.predict(df_enc)\n",
    "print(classification_report(is_valid, y_pred, digits=4))"
   ]
  },
  {
   "cell_type": "code",
   "execution_count": 45,
   "metadata": {},
   "outputs": [
    {
     "name": "stdout",
     "output_type": "stream",
     "text": [
      "              precision    recall  f1-score   support\n",
      "\n",
      "       False     0.9876    0.9683    0.9779     24420\n",
      "        True     0.9102    0.9635    0.9361      8141\n",
      "\n",
      "    accuracy                         0.9671     32561\n",
      "   macro avg     0.9489    0.9659    0.9570     32561\n",
      "weighted avg     0.9682    0.9671    0.9674     32561\n",
      "\n"
     ]
    }
   ],
   "source": [
    "y_pred =  np.where(is_valid, rf.oob_decision_function_[:, 0], rf.oob_decision_function_[:, 1]) > .5\n",
    "print(classification_report(is_valid, y_pred, digits=4))"
   ]
  },
  {
   "cell_type": "code",
   "execution_count": 59,
   "metadata": {},
   "outputs": [
    {
     "data": {
      "text/plain": [
       "[('sex', 0.28733066759531356),\n",
       " ('race', 0.18779723212953295),\n",
       " ('native-country', 0.11423546682700926),\n",
       " ('education', 0.09368343414284039),\n",
       " ('age', 0.04814547068853805),\n",
       " ('capital-gain', 0.04319401481359567),\n",
       " ('education-num', 0.04250291822084679),\n",
       " ('workclass', 0.042064087415118245),\n",
       " ('fnlwgt', 0.03506345060412116),\n",
       " ('relationship', 0.024870882182178474),\n",
       " ('capital-loss', 0.02372038718639654),\n",
       " ('marital-status', 0.023670051205125452),\n",
       " ('occupation', 0.01849007572831551),\n",
       " ('hours-per-week', 0.015231861261068003)]"
      ]
     },
     "execution_count": 59,
     "metadata": {},
     "output_type": "execute_result"
    }
   ],
   "source": [
    "sorted(zip(df.columns, rf.feature_importances_), key=lambda t: t[1], reverse=True)"
   ]
  }
 ],
 "metadata": {
  "kernelspec": {
   "display_name": "Python 3",
   "language": "python",
   "name": "python3"
  },
  "language_info": {
   "codemirror_mode": {
    "name": "ipython",
    "version": 3
   },
   "file_extension": ".py",
   "mimetype": "text/x-python",
   "name": "python",
   "nbconvert_exporter": "python",
   "pygments_lexer": "ipython3",
   "version": "3.8.5"
  }
 },
 "nbformat": 4,
 "nbformat_minor": 4
}
