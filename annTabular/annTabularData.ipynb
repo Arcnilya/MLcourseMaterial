{
 "cells": [
  {
   "cell_type": "markdown",
   "metadata": {},
   "source": [
    "### Here we build a ann that can beat RF in adult dataset which has mainly tabular data in it."
   ]
  },
  {
   "cell_type": "code",
   "execution_count": 2,
   "metadata": {},
   "outputs": [],
   "source": [
    "import numpy as np\n",
    "import pandas as pd\n",
    "\n",
    "from fastai.tabular.all import *\n",
    "from sklearn.preprocessing import StandardScaler\n",
    "from sklearn.pipeline import Pipeline\n",
    "from sklearn.ensemble import RandomForestClassifier\n",
    "from sklearn.compose import ColumnTransformer, make_column_selector\n",
    "from sklearn.preprocessing import OrdinalEncoder\n",
    "from sklearn.model_selection import train_test_split\n",
    "\n",
    "path = untar_data(URLs.ADULT_SAMPLE)\n",
    "\n",
    "df = pd.read_csv(path/'adult.csv')\n",
    "sel_obj = make_column_selector(dtype_include=[object, 'category'])\n",
    "sel_cont = make_column_selector(dtype_include=np.number)\n",
    "\n",
    "df.loc[:, sel_obj(df)] = df.loc[:, sel_obj(df)].astype('category') \n",
    "\n",
    "# Fillnans\n",
    "df.fillna(method='bfill', inplace=True)\n",
    "\n",
    "# There are additional spaces everyeher..\n",
    "for c in sel_obj(df):\n",
    "    df.loc[:, c] = df.loc[:, c].map(lambda s: s.strip())\n",
    "\n",
    "\n",
    "ord_dict = np.load('cat_feature_order_dict.npy', allow_pickle=True).item()\n",
    "for key in ord_dict.keys():\n",
    "    feat_order = ord_dict[key].items()\n",
    "    cats = np.array(sorted(feat_order, key=lambda t: t[1]))[:, 0]\n",
    "    df.loc[:, key].cat.set_categories(cats, ordered=True, inplace=True)\n",
    "\n",
    "# Transformers\n",
    "nn_cat_pipe = Pipeline([('ordinal', OrdinalEncoder()), ('std', StandardScaler())])\n",
    "ct = ColumnTransformer(transformers=[('ordinal', OrdinalEncoder(), sel_obj)], remainder='passthrough')\n",
    "ct_nn = ColumnTransformer(transformers=[('ordinal+std', nn_cat_pipe, sel_obj), \n",
    "                                        ('standard', StandardScaler(), sel_cont)], \n",
    "                          remainder='passthrough')\n",
    "\n",
    "# Train test split\n",
    "y = df.loc[:, 'salary']\n",
    "df = df.drop(columns='salary')\n",
    "X_train, X_valid, y_train, y_valid  = train_test_split(df, y)\n",
    "\n",
    "X_train_enc = ct.fit_transform(X_train)\n",
    "X_valid_enc = ct.transform(X_valid)\n",
    "X_train_nn = ct_nn.fit_transform(X_train)\n",
    "X_valid_nn = ct_nn.transform(X_valid)\n",
    "\n",
    "train_idxs = X_train.index.values\n",
    "valid_idxs = X_valid.index.values\n"
   ]
  },
  {
   "cell_type": "code",
   "execution_count": 5,
   "metadata": {},
   "outputs": [
    {
     "data": {
      "text/html": [
       "<table border=\"1\" class=\"dataframe\">\n",
       "  <thead>\n",
       "    <tr style=\"text-align: right;\">\n",
       "      <th></th>\n",
       "      <th>workclass</th>\n",
       "      <th>education</th>\n",
       "      <th>marital-status</th>\n",
       "      <th>occupation</th>\n",
       "      <th>relationship</th>\n",
       "      <th>race</th>\n",
       "      <th>age</th>\n",
       "      <th>fnlwgt</th>\n",
       "      <th>education-num</th>\n",
       "      <th>salary</th>\n",
       "    </tr>\n",
       "  </thead>\n",
       "  <tbody>\n",
       "    <tr>\n",
       "      <th>0</th>\n",
       "      <td>Private</td>\n",
       "      <td>Some-college</td>\n",
       "      <td>Never-married</td>\n",
       "      <td>Exec-managerial</td>\n",
       "      <td>Not-in-family</td>\n",
       "      <td>White</td>\n",
       "      <td>36.000000</td>\n",
       "      <td>109133.001277</td>\n",
       "      <td>10.0</td>\n",
       "      <td>&lt;50k</td>\n",
       "    </tr>\n",
       "    <tr>\n",
       "      <th>1</th>\n",
       "      <td>Private</td>\n",
       "      <td>Assoc-voc</td>\n",
       "      <td>Married-civ-spouse</td>\n",
       "      <td>Adm-clerical</td>\n",
       "      <td>Husband</td>\n",
       "      <td>White</td>\n",
       "      <td>47.000000</td>\n",
       "      <td>200470.999947</td>\n",
       "      <td>11.0</td>\n",
       "      <td>&lt;50k</td>\n",
       "    </tr>\n",
       "    <tr>\n",
       "      <th>2</th>\n",
       "      <td>Private</td>\n",
       "      <td>HS-grad</td>\n",
       "      <td>Married-civ-spouse</td>\n",
       "      <td>Craft-repair</td>\n",
       "      <td>Husband</td>\n",
       "      <td>White</td>\n",
       "      <td>45.000000</td>\n",
       "      <td>185385.000133</td>\n",
       "      <td>9.0</td>\n",
       "      <td>&gt;=50k</td>\n",
       "    </tr>\n",
       "    <tr>\n",
       "      <th>3</th>\n",
       "      <td>State-gov</td>\n",
       "      <td>Bachelors</td>\n",
       "      <td>Never-married</td>\n",
       "      <td>Adm-clerical</td>\n",
       "      <td>Own-child</td>\n",
       "      <td>White</td>\n",
       "      <td>22.000000</td>\n",
       "      <td>292933.001878</td>\n",
       "      <td>13.0</td>\n",
       "      <td>&lt;50k</td>\n",
       "    </tr>\n",
       "    <tr>\n",
       "      <th>4</th>\n",
       "      <td>Local-gov</td>\n",
       "      <td>Bachelors</td>\n",
       "      <td>Divorced</td>\n",
       "      <td>Prof-specialty</td>\n",
       "      <td>Unmarried</td>\n",
       "      <td>White</td>\n",
       "      <td>34.000000</td>\n",
       "      <td>255098.002512</td>\n",
       "      <td>13.0</td>\n",
       "      <td>&lt;50k</td>\n",
       "    </tr>\n",
       "    <tr>\n",
       "      <th>5</th>\n",
       "      <td>Private</td>\n",
       "      <td>HS-grad</td>\n",
       "      <td>Separated</td>\n",
       "      <td>Adm-clerical</td>\n",
       "      <td>Unmarried</td>\n",
       "      <td>Black</td>\n",
       "      <td>30.000000</td>\n",
       "      <td>228405.999415</td>\n",
       "      <td>9.0</td>\n",
       "      <td>&lt;50k</td>\n",
       "    </tr>\n",
       "    <tr>\n",
       "      <th>6</th>\n",
       "      <td>Self-emp-not-inc</td>\n",
       "      <td>Bachelors</td>\n",
       "      <td>Married-civ-spouse</td>\n",
       "      <td>Farming-fishing</td>\n",
       "      <td>Husband</td>\n",
       "      <td>White</td>\n",
       "      <td>83.999999</td>\n",
       "      <td>155057.000429</td>\n",
       "      <td>13.0</td>\n",
       "      <td>&lt;50k</td>\n",
       "    </tr>\n",
       "    <tr>\n",
       "      <th>7</th>\n",
       "      <td>Private</td>\n",
       "      <td>HS-grad</td>\n",
       "      <td>Married-civ-spouse</td>\n",
       "      <td>Handlers-cleaners</td>\n",
       "      <td>Husband</td>\n",
       "      <td>White</td>\n",
       "      <td>36.000000</td>\n",
       "      <td>166416.000141</td>\n",
       "      <td>9.0</td>\n",
       "      <td>&lt;50k</td>\n",
       "    </tr>\n",
       "    <tr>\n",
       "      <th>8</th>\n",
       "      <td>Private</td>\n",
       "      <td>Some-college</td>\n",
       "      <td>Divorced</td>\n",
       "      <td>Exec-managerial</td>\n",
       "      <td>Own-child</td>\n",
       "      <td>Black</td>\n",
       "      <td>38.000000</td>\n",
       "      <td>191479.000064</td>\n",
       "      <td>10.0</td>\n",
       "      <td>&lt;50k</td>\n",
       "    </tr>\n",
       "    <tr>\n",
       "      <th>9</th>\n",
       "      <td>Private</td>\n",
       "      <td>HS-grad</td>\n",
       "      <td>Married-civ-spouse</td>\n",
       "      <td>Machine-op-inspct</td>\n",
       "      <td>Wife</td>\n",
       "      <td>White</td>\n",
       "      <td>33.000000</td>\n",
       "      <td>403467.990469</td>\n",
       "      <td>9.0</td>\n",
       "      <td>&lt;50k</td>\n",
       "    </tr>\n",
       "  </tbody>\n",
       "</table>"
      ],
      "text/plain": [
       "<IPython.core.display.HTML object>"
      ]
     },
     "metadata": {},
     "output_type": "display_data"
    }
   ],
   "source": [
    "procs_nn = [Categorify, FillMissing, Normalize]\n",
    "to_nn = TabularPandas(pd.concat((df, y), axis=1), procs=procs_nn, \n",
    "                      cat_names = ['workclass', 'education', 'marital-status', 'occupation', 'relationship', 'race'],\n",
    "                      cont_names = ['age', 'fnlwgt', 'education-num'],\n",
    "                      y_names=\"salary\",\n",
    "                      splits=(list(train_idxs), list(valid_idxs)))\n",
    "\n",
    "dls = to_nn.dataloaders(24)\n",
    "dls.show_batch()"
   ]
  },
  {
   "cell_type": "code",
   "execution_count": 6,
   "metadata": {},
   "outputs": [
    {
     "data": {
      "text/html": [],
      "text/plain": [
       "<IPython.core.display.HTML object>"
      ]
     },
     "metadata": {},
     "output_type": "display_data"
    },
    {
     "data": {
      "text/plain": [
       "SuggestedLRs(lr_min=0.0033113110810518267, lr_steep=0.25118863582611084)"
      ]
     },
     "execution_count": 6,
     "metadata": {},
     "output_type": "execute_result"
    },
    {
     "data": {
      "image/png": "[encoded data removed]",
      "text/plain": [
       "<Figure size 432x288 with 1 Axes>"
      ]
     },
     "metadata": {
      "needs_background": "light"
     },
     "output_type": "display_data"
    }
   ],
   "source": [
    "learn = tabular_learner(dls, metrics=accuracy)\n",
    "learn.lr_find()\n"
   ]
  },
  {
   "cell_type": "code",
   "execution_count": 7,
   "metadata": {},
   "outputs": [
    {
     "data": {
      "text/html": [
       "<table border=\"1\" class=\"dataframe\">\n",
       "  <thead>\n",
       "    <tr style=\"text-align: left;\">\n",
       "      <th>epoch</th>\n",
       "      <th>train_loss</th>\n",
       "      <th>valid_loss</th>\n",
       "      <th>accuracy</th>\n",
       "      <th>time</th>\n",
       "    </tr>\n",
       "  </thead>\n",
       "  <tbody>\n",
       "    <tr>\n",
       "      <td>0</td>\n",
       "      <td>0.393522</td>\n",
       "      <td>0.365058</td>\n",
       "      <td>0.828399</td>\n",
       "      <td>00:08</td>\n",
       "    </tr>\n",
       "    <tr>\n",
       "      <td>1</td>\n",
       "      <td>0.364926</td>\n",
       "      <td>0.349920</td>\n",
       "      <td>0.834787</td>\n",
       "      <td>00:08</td>\n",
       "    </tr>\n",
       "    <tr>\n",
       "      <td>2</td>\n",
       "      <td>0.362898</td>\n",
       "      <td>0.348167</td>\n",
       "      <td>0.842280</td>\n",
       "      <td>00:07</td>\n",
       "    </tr>\n",
       "    <tr>\n",
       "      <td>3</td>\n",
       "      <td>0.348620</td>\n",
       "      <td>0.342484</td>\n",
       "      <td>0.843754</td>\n",
       "      <td>00:08</td>\n",
       "    </tr>\n",
       "    <tr>\n",
       "      <td>4</td>\n",
       "      <td>0.329532</td>\n",
       "      <td>0.341860</td>\n",
       "      <td>0.843140</td>\n",
       "      <td>00:07</td>\n",
       "    </tr>\n",
       "  </tbody>\n",
       "</table>"
      ],
      "text/plain": [
       "<IPython.core.display.HTML object>"
      ]
     },
     "metadata": {},
     "output_type": "display_data"
    }
   ],
   "source": [
    "learn.fit_one_cycle(5, lr=.0005)"
   ]
  },
  {
   "cell_type": "code",
   "execution_count": 8,
   "metadata": {},
   "outputs": [
    {
     "name": "stdout",
     "output_type": "stream",
     "text": [
      "              precision    recall  f1-score   support\n",
      "\n",
      "        <50k     0.8886    0.9286    0.9082      6235\n",
      "       >=50k     0.7262    0.6191    0.6684      1906\n",
      "\n",
      "    accuracy                         0.8562      8141\n",
      "   macro avg     0.8074    0.7739    0.7883      8141\n",
      "weighted avg     0.8506    0.8562    0.8520      8141\n",
      "\n"
     ]
    }
   ],
   "source": [
    "from sklearn.metrics import accuracy_score, classification_report\n",
    "rf = RandomForestClassifier(n_estimators=200, oob_score=True)\n",
    "rf.fit(X_train_enc, y_train)\n",
    "\n",
    "y_pred = rf.predict(X_valid_enc)\n",
    "\n",
    "print(classification_report(y_valid, y_pred, digits=4))"
   ]
  },
  {
   "cell_type": "markdown",
   "metadata": {},
   "source": [
    "### RF is almost completely able to tell whether a given instance is from the validation set or from the training set!?"
   ]
  },
  {
   "cell_type": "code",
   "execution_count": 9,
   "metadata": {},
   "outputs": [
    {
     "name": "stdout",
     "output_type": "stream",
     "text": [
      "0.7335462670065416\n",
      "              precision    recall  f1-score   support\n",
      "\n",
      "       False     0.9998    1.0000    0.9999     24420\n",
      "        True     1.0000    0.9993    0.9996      8141\n",
      "\n",
      "    accuracy                         0.9998     32561\n",
      "   macro avg     0.9999    0.9996    0.9998     32561\n",
      "weighted avg     0.9998    0.9998    0.9998     32561\n",
      "\n"
     ]
    }
   ],
   "source": [
    "is_valid = np.zeros(len(df), dtype=bool)\n",
    "is_valid[valid_idxs] = True\n",
    "\n",
    "df_enc = ct.fit_transform(df)\n",
    "\n",
    "rf.fit(df_enc, is_valid)\n",
    "print(rf.oob_score_)\n",
    "y_pred = rf.predict(df_enc)\n",
    "print(classification_report(is_valid, y_pred, digits=4))"
   ]
  },
  {
   "cell_type": "code",
   "execution_count": 10,
   "metadata": {},
   "outputs": [
    {
     "name": "stdout",
     "output_type": "stream",
     "text": [
      "              precision    recall  f1-score   support\n",
      "\n",
      "       False     0.9891    0.9683    0.9786     24420\n",
      "        True     0.9107    0.9681    0.9385      8141\n",
      "\n",
      "    accuracy                         0.9683     32561\n",
      "   macro avg     0.9499    0.9682    0.9586     32561\n",
      "weighted avg     0.9695    0.9683    0.9686     32561\n",
      "\n"
     ]
    }
   ],
   "source": [
    "y_pred =  np.where(is_valid, rf.oob_decision_function_[:, 0], rf.oob_decision_function_[:, 1]) > .5\n",
    "print(classification_report(is_valid, y_pred, digits=4))"
   ]
  },
  {
   "cell_type": "code",
   "execution_count": 11,
   "metadata": {},
   "outputs": [
    {
     "data": {
      "text/plain": [
       "[('sex', 0.2876446446199688),\n",
       " ('race', 0.1883671018296292),\n",
       " ('native-country', 0.11617412359950822),\n",
       " ('education', 0.09092459971271796),\n",
       " ('capital-gain', 0.050625637680229686),\n",
       " ('workclass', 0.048782501151142944),\n",
       " ('age', 0.04379067017813781),\n",
       " ('education-num', 0.03811328550832922),\n",
       " ('fnlwgt', 0.033927029235614664),\n",
       " ('relationship', 0.02438402115592836),\n",
       " ('capital-loss', 0.023205472187463532),\n",
       " ('marital-status', 0.023059999420491768),\n",
       " ('hours-per-week', 0.01652401216227622),\n",
       " ('occupation', 0.014476901558561728)]"
      ]
     },
     "execution_count": 11,
     "metadata": {},
     "output_type": "execute_result"
    }
   ],
   "source": [
    "sorted(zip(df.columns, rf.feature_importances_), key=lambda t: t[1], reverse=True)"
   ]
  }
 ],
 "metadata": {
  "kernelspec": {
   "display_name": "Python 3",
   "language": "python",
   "name": "python3"
  },
  "language_info": {
   "codemirror_mode": {
    "name": "ipython",
    "version": 3
   },
   "file_extension": ".py",
   "mimetype": "text/x-python",
   "name": "python",
   "nbconvert_exporter": "python",
   "pygments_lexer": "ipython3",
   "version": "3.8.5"
  }
 },
 "nbformat": 4,
 "nbformat_minor": 4
}
